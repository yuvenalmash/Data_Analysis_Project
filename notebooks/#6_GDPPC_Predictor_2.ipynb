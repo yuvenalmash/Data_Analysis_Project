{
 "cells": [
  {
   "cell_type": "markdown",
   "metadata": {},
   "source": [
    "##  Predict GDP per capita"
   ]
  },
  {
   "cell_type": "code",
   "execution_count": 22,
   "metadata": {},
   "outputs": [],
   "source": [
    "import pandas as pd\n",
    "from sklearn.model_selection import train_test_split\n",
    "from sklearn.impute import SimpleImputer\n",
    "from sklearn.preprocessing import LabelEncoder\n",
    "from sklearn.linear_model import LinearRegression\n",
    "from sklearn.metrics import mean_squared_error, r2_score"
   ]
  },
  {
   "cell_type": "code",
   "execution_count": 23,
   "metadata": {},
   "outputs": [],
   "source": [
    "# Import data set\n",
    "file = '../data/WEOOct2020all.xlsx'\n",
    "df = pd.read_excel(file)"
   ]
  },
  {
   "cell_type": "markdown",
   "metadata": {},
   "source": [
    "### Data Preparation"
   ]
  },
  {
   "cell_type": "code",
   "execution_count": 24,
   "metadata": {},
   "outputs": [],
   "source": [
    "# 'Gross domestic product per capita, constant prices' = NGDPRPPPPC => Dollars\n",
    "# 'Population' = LP\n",
    "# 'Gross national savings' = NGSD_NGDP(% of GDP) => Percent\n",
    "\n",
    "data_df = df[df['WEO Subject Code'].isin(['NGDPRPPPPC', 'LP', 'NGSD_NGDP'])]\n",
    "\n",
    "years = [int(year) for year in range(1980, 2020)]\n",
    "data_df_pivot = data_df.pivot_table(index=['Country', 'ISO'], columns='WEO Subject Code', values=years).reset_index()\n"
   ]
  },
  {
   "cell_type": "code",
   "execution_count": 25,
   "metadata": {},
   "outputs": [],
   "source": [
    "import pycountry_convert as pc\n",
    "\n",
    "def get_continent(country):\n",
    "\n",
    "    if country == 'UVK':\n",
    "        return 'Europe'\n",
    "    elif country == 'TLS' or country == 'WBG':\n",
    "        return 'Asia'\n",
    "    \n",
    "    country_code = pc.country_alpha3_to_country_alpha2(country)\n",
    "    continent_code = pc.country_alpha2_to_continent_code(country_code)\n",
    "    continent = pc.convert_continent_code_to_continent_name(continent_code)\n",
    "\n",
    "    return continent"
   ]
  },
  {
   "cell_type": "code",
   "execution_count": 26,
   "metadata": {},
   "outputs": [],
   "source": [
    "# Add continent column to the dataframe and remove unwanted columns\n",
    "data_df_pivot['Continent'] = data_df_pivot['ISO'].apply(get_continent)\n"
   ]
  },
  {
   "cell_type": "code",
   "execution_count": 29,
   "metadata": {},
   "outputs": [],
   "source": [
    "# Extract the relevant columns for features and target\n",
    "\n",
    "feature_columns = [(year, subject) for year in range(1980, 2020) for subject in ['LP', 'NGDPRPPPPC', 'NGSD_NGDP']]\n",
    "target_column = (2019, 'NGDPRPPPPC')  # Target variable is 'NGDPRPPPPC' for 2019\n"
   ]
  },
  {
   "cell_type": "code",
   "execution_count": 30,
   "metadata": {},
   "outputs": [],
   "source": [
    "# Separate features and target\n",
    "X = data_df_pivot[feature_columns].values\n",
    "y = data_df_pivot[target_column].values"
   ]
  },
  {
   "cell_type": "code",
   "execution_count": 32,
   "metadata": {},
   "outputs": [],
   "source": [
    "# Impute missing values with the mean (you can use other strategies if needed)\n",
    "imputer = SimpleImputer(strategy='mean')\n",
    "X = imputer.fit_transform(X)\n",
    "y = imputer.fit_transform(y.reshape(-1, 1)).flatten()"
   ]
  },
  {
   "cell_type": "code",
   "execution_count": 33,
   "metadata": {},
   "outputs": [],
   "source": [
    "# Split the data into training and test sets\n",
    "X_train, X_test, y_train, y_test = train_test_split(X, y, test_size=0.2, random_state=42)\n"
   ]
  },
  {
   "cell_type": "code",
   "execution_count": 34,
   "metadata": {},
   "outputs": [
    {
     "data": {
      "text/html": [
       "<style>#sk-container-id-2 {color: black;}#sk-container-id-2 pre{padding: 0;}#sk-container-id-2 div.sk-toggleable {background-color: white;}#sk-container-id-2 label.sk-toggleable__label {cursor: pointer;display: block;width: 100%;margin-bottom: 0;padding: 0.3em;box-sizing: border-box;text-align: center;}#sk-container-id-2 label.sk-toggleable__label-arrow:before {content: \"▸\";float: left;margin-right: 0.25em;color: #696969;}#sk-container-id-2 label.sk-toggleable__label-arrow:hover:before {color: black;}#sk-container-id-2 div.sk-estimator:hover label.sk-toggleable__label-arrow:before {color: black;}#sk-container-id-2 div.sk-toggleable__content {max-height: 0;max-width: 0;overflow: hidden;text-align: left;background-color: #f0f8ff;}#sk-container-id-2 div.sk-toggleable__content pre {margin: 0.2em;color: black;border-radius: 0.25em;background-color: #f0f8ff;}#sk-container-id-2 input.sk-toggleable__control:checked~div.sk-toggleable__content {max-height: 200px;max-width: 100%;overflow: auto;}#sk-container-id-2 input.sk-toggleable__control:checked~label.sk-toggleable__label-arrow:before {content: \"▾\";}#sk-container-id-2 div.sk-estimator input.sk-toggleable__control:checked~label.sk-toggleable__label {background-color: #d4ebff;}#sk-container-id-2 div.sk-label input.sk-toggleable__control:checked~label.sk-toggleable__label {background-color: #d4ebff;}#sk-container-id-2 input.sk-hidden--visually {border: 0;clip: rect(1px 1px 1px 1px);clip: rect(1px, 1px, 1px, 1px);height: 1px;margin: -1px;overflow: hidden;padding: 0;position: absolute;width: 1px;}#sk-container-id-2 div.sk-estimator {font-family: monospace;background-color: #f0f8ff;border: 1px dotted black;border-radius: 0.25em;box-sizing: border-box;margin-bottom: 0.5em;}#sk-container-id-2 div.sk-estimator:hover {background-color: #d4ebff;}#sk-container-id-2 div.sk-parallel-item::after {content: \"\";width: 100%;border-bottom: 1px solid gray;flex-grow: 1;}#sk-container-id-2 div.sk-label:hover label.sk-toggleable__label {background-color: #d4ebff;}#sk-container-id-2 div.sk-serial::before {content: \"\";position: absolute;border-left: 1px solid gray;box-sizing: border-box;top: 0;bottom: 0;left: 50%;z-index: 0;}#sk-container-id-2 div.sk-serial {display: flex;flex-direction: column;align-items: center;background-color: white;padding-right: 0.2em;padding-left: 0.2em;position: relative;}#sk-container-id-2 div.sk-item {position: relative;z-index: 1;}#sk-container-id-2 div.sk-parallel {display: flex;align-items: stretch;justify-content: center;background-color: white;position: relative;}#sk-container-id-2 div.sk-item::before, #sk-container-id-2 div.sk-parallel-item::before {content: \"\";position: absolute;border-left: 1px solid gray;box-sizing: border-box;top: 0;bottom: 0;left: 50%;z-index: -1;}#sk-container-id-2 div.sk-parallel-item {display: flex;flex-direction: column;z-index: 1;position: relative;background-color: white;}#sk-container-id-2 div.sk-parallel-item:first-child::after {align-self: flex-end;width: 50%;}#sk-container-id-2 div.sk-parallel-item:last-child::after {align-self: flex-start;width: 50%;}#sk-container-id-2 div.sk-parallel-item:only-child::after {width: 0;}#sk-container-id-2 div.sk-dashed-wrapped {border: 1px dashed gray;margin: 0 0.4em 0.5em 0.4em;box-sizing: border-box;padding-bottom: 0.4em;background-color: white;}#sk-container-id-2 div.sk-label label {font-family: monospace;font-weight: bold;display: inline-block;line-height: 1.2em;}#sk-container-id-2 div.sk-label-container {text-align: center;}#sk-container-id-2 div.sk-container {/* jupyter's `normalize.less` sets `[hidden] { display: none; }` but bootstrap.min.css set `[hidden] { display: none !important; }` so we also need the `!important` here to be able to override the default hidden behavior on the sphinx rendered scikit-learn.org. See: https://github.com/scikit-learn/scikit-learn/issues/21755 */display: inline-block !important;position: relative;}#sk-container-id-2 div.sk-text-repr-fallback {display: none;}</style><div id=\"sk-container-id-2\" class=\"sk-top-container\"><div class=\"sk-text-repr-fallback\"><pre>LinearRegression()</pre><b>In a Jupyter environment, please rerun this cell to show the HTML representation or trust the notebook. <br />On GitHub, the HTML representation is unable to render, please try loading this page with nbviewer.org.</b></div><div class=\"sk-container\" hidden><div class=\"sk-item\"><div class=\"sk-estimator sk-toggleable\"><input class=\"sk-toggleable__control sk-hidden--visually\" id=\"sk-estimator-id-2\" type=\"checkbox\" checked><label for=\"sk-estimator-id-2\" class=\"sk-toggleable__label sk-toggleable__label-arrow\">LinearRegression</label><div class=\"sk-toggleable__content\"><pre>LinearRegression()</pre></div></div></div></div></div>"
      ],
      "text/plain": [
       "LinearRegression()"
      ]
     },
     "execution_count": 34,
     "metadata": {},
     "output_type": "execute_result"
    }
   ],
   "source": [
    "# Train a Linear Regression model (you can choose other regression models if desired)\n",
    "model = LinearRegression()\n",
    "model.fit(X_train, y_train)"
   ]
  },
  {
   "cell_type": "code",
   "execution_count": 35,
   "metadata": {},
   "outputs": [],
   "source": [
    "# Make predictions on the test set\n",
    "y_pred = model.predict(X_test)"
   ]
  },
  {
   "cell_type": "code",
   "execution_count": 36,
   "metadata": {},
   "outputs": [],
   "source": [
    "# Evaluate the model\n",
    "mse = mean_squared_error(y_test, y_pred)\n",
    "r2 = r2_score(y_test, y_pred)\n"
   ]
  },
  {
   "cell_type": "code",
   "execution_count": 37,
   "metadata": {},
   "outputs": [
    {
     "name": "stdout",
     "output_type": "stream",
     "text": [
      "Mean Squared Error: 0.00\n",
      "R-squared: 1.00\n"
     ]
    }
   ],
   "source": [
    "print(f\"Mean Squared Error: {mse:.2f}\")\n",
    "print(f\"R-squared: {r2:.2f}\")"
   ]
  },
  {
   "cell_type": "markdown",
   "metadata": {},
   "source": [
    "### Fields that were used during training"
   ]
  },
  {
   "cell_type": "code",
   "execution_count": 38,
   "metadata": {},
   "outputs": [
    {
     "name": "stdout",
     "output_type": "stream",
     "text": [
      "[(1980, 'LP'), (1980, 'NGDPRPPPPC'), (1980, 'NGSD_NGDP'), (1981, 'LP'), (1981, 'NGDPRPPPPC'), (1981, 'NGSD_NGDP'), (1982, 'LP'), (1982, 'NGDPRPPPPC'), (1982, 'NGSD_NGDP'), (1983, 'LP'), (1983, 'NGDPRPPPPC'), (1983, 'NGSD_NGDP'), (1984, 'LP'), (1984, 'NGDPRPPPPC'), (1984, 'NGSD_NGDP'), (1985, 'LP'), (1985, 'NGDPRPPPPC'), (1985, 'NGSD_NGDP'), (1986, 'LP'), (1986, 'NGDPRPPPPC'), (1986, 'NGSD_NGDP'), (1987, 'LP'), (1987, 'NGDPRPPPPC'), (1987, 'NGSD_NGDP'), (1988, 'LP'), (1988, 'NGDPRPPPPC'), (1988, 'NGSD_NGDP'), (1989, 'LP'), (1989, 'NGDPRPPPPC'), (1989, 'NGSD_NGDP'), (1990, 'LP'), (1990, 'NGDPRPPPPC'), (1990, 'NGSD_NGDP'), (1991, 'LP'), (1991, 'NGDPRPPPPC'), (1991, 'NGSD_NGDP'), (1992, 'LP'), (1992, 'NGDPRPPPPC'), (1992, 'NGSD_NGDP'), (1993, 'LP'), (1993, 'NGDPRPPPPC'), (1993, 'NGSD_NGDP'), (1994, 'LP'), (1994, 'NGDPRPPPPC'), (1994, 'NGSD_NGDP'), (1995, 'LP'), (1995, 'NGDPRPPPPC'), (1995, 'NGSD_NGDP'), (1996, 'LP'), (1996, 'NGDPRPPPPC'), (1996, 'NGSD_NGDP'), (1997, 'LP'), (1997, 'NGDPRPPPPC'), (1997, 'NGSD_NGDP'), (1998, 'LP'), (1998, 'NGDPRPPPPC'), (1998, 'NGSD_NGDP'), (1999, 'LP'), (1999, 'NGDPRPPPPC'), (1999, 'NGSD_NGDP'), (2000, 'LP'), (2000, 'NGDPRPPPPC'), (2000, 'NGSD_NGDP'), (2001, 'LP'), (2001, 'NGDPRPPPPC'), (2001, 'NGSD_NGDP'), (2002, 'LP'), (2002, 'NGDPRPPPPC'), (2002, 'NGSD_NGDP'), (2003, 'LP'), (2003, 'NGDPRPPPPC'), (2003, 'NGSD_NGDP'), (2004, 'LP'), (2004, 'NGDPRPPPPC'), (2004, 'NGSD_NGDP'), (2005, 'LP'), (2005, 'NGDPRPPPPC'), (2005, 'NGSD_NGDP'), (2006, 'LP'), (2006, 'NGDPRPPPPC'), (2006, 'NGSD_NGDP'), (2007, 'LP'), (2007, 'NGDPRPPPPC'), (2007, 'NGSD_NGDP'), (2008, 'LP'), (2008, 'NGDPRPPPPC'), (2008, 'NGSD_NGDP'), (2009, 'LP'), (2009, 'NGDPRPPPPC'), (2009, 'NGSD_NGDP'), (2010, 'LP'), (2010, 'NGDPRPPPPC'), (2010, 'NGSD_NGDP'), (2011, 'LP'), (2011, 'NGDPRPPPPC'), (2011, 'NGSD_NGDP'), (2012, 'LP'), (2012, 'NGDPRPPPPC'), (2012, 'NGSD_NGDP'), (2013, 'LP'), (2013, 'NGDPRPPPPC'), (2013, 'NGSD_NGDP'), (2014, 'LP'), (2014, 'NGDPRPPPPC'), (2014, 'NGSD_NGDP'), (2015, 'LP'), (2015, 'NGDPRPPPPC'), (2015, 'NGSD_NGDP'), (2016, 'LP'), (2016, 'NGDPRPPPPC'), (2016, 'NGSD_NGDP'), (2017, 'LP'), (2017, 'NGDPRPPPPC'), (2017, 'NGSD_NGDP'), (2018, 'LP'), (2018, 'NGDPRPPPPC'), (2018, 'NGSD_NGDP'), (2019, 'LP'), (2019, 'NGDPRPPPPC'), (2019, 'NGSD_NGDP')]\n"
     ]
    }
   ],
   "source": [
    "# Get the list of field (feature) names used during training\n",
    "feature_names = data_df_pivot[feature_columns].columns.tolist()\n",
    "\n",
    "# Print the feature names\n",
    "print(feature_names)"
   ]
  },
  {
   "cell_type": "markdown",
   "metadata": {},
   "source": [
    "### Top 5 fields/features that contribute the most to the predictions."
   ]
  },
  {
   "cell_type": "code",
   "execution_count": 41,
   "metadata": {},
   "outputs": [],
   "source": [
    "from sklearn.linear_model import LinearRegression"
   ]
  },
  {
   "cell_type": "code",
   "execution_count": 42,
   "metadata": {},
   "outputs": [],
   "source": [
    "\n",
    "# Get the coefficients of the linear model\n",
    "coefficients = model.coef_\n",
    "\n",
    "# Get the absolute values of the coefficients\n",
    "abs_coefficients = abs(coefficients)\n",
    "\n",
    "# Get the indices of the top five features\n",
    "top_five_indices = abs_coefficients.argsort()[-5:][::-1]\n",
    "\n",
    "# Get the top five feature names\n",
    "top_five_features = [feature_names[i] for i in top_five_indices]"
   ]
  },
  {
   "cell_type": "code",
   "execution_count": 43,
   "metadata": {},
   "outputs": [
    {
     "name": "stdout",
     "output_type": "stream",
     "text": [
      "Top five features:\n",
      "[(2019, 'NGDPRPPPPC'), (1983, 'LP'), (1982, 'LP'), (2008, 'LP'), (1984, 'LP')]\n"
     ]
    }
   ],
   "source": [
    "# Print the top five features\n",
    "print(\"Top five features:\")\n",
    "print(top_five_features)"
   ]
  },
  {
   "cell_type": "markdown",
   "metadata": {},
   "source": [
    "#### Train another predictor that uses those top 5 features"
   ]
  },
  {
   "cell_type": "code",
   "execution_count": 45,
   "metadata": {},
   "outputs": [
    {
     "data": {
      "text/html": [
       "<style>#sk-container-id-3 {color: black;}#sk-container-id-3 pre{padding: 0;}#sk-container-id-3 div.sk-toggleable {background-color: white;}#sk-container-id-3 label.sk-toggleable__label {cursor: pointer;display: block;width: 100%;margin-bottom: 0;padding: 0.3em;box-sizing: border-box;text-align: center;}#sk-container-id-3 label.sk-toggleable__label-arrow:before {content: \"▸\";float: left;margin-right: 0.25em;color: #696969;}#sk-container-id-3 label.sk-toggleable__label-arrow:hover:before {color: black;}#sk-container-id-3 div.sk-estimator:hover label.sk-toggleable__label-arrow:before {color: black;}#sk-container-id-3 div.sk-toggleable__content {max-height: 0;max-width: 0;overflow: hidden;text-align: left;background-color: #f0f8ff;}#sk-container-id-3 div.sk-toggleable__content pre {margin: 0.2em;color: black;border-radius: 0.25em;background-color: #f0f8ff;}#sk-container-id-3 input.sk-toggleable__control:checked~div.sk-toggleable__content {max-height: 200px;max-width: 100%;overflow: auto;}#sk-container-id-3 input.sk-toggleable__control:checked~label.sk-toggleable__label-arrow:before {content: \"▾\";}#sk-container-id-3 div.sk-estimator input.sk-toggleable__control:checked~label.sk-toggleable__label {background-color: #d4ebff;}#sk-container-id-3 div.sk-label input.sk-toggleable__control:checked~label.sk-toggleable__label {background-color: #d4ebff;}#sk-container-id-3 input.sk-hidden--visually {border: 0;clip: rect(1px 1px 1px 1px);clip: rect(1px, 1px, 1px, 1px);height: 1px;margin: -1px;overflow: hidden;padding: 0;position: absolute;width: 1px;}#sk-container-id-3 div.sk-estimator {font-family: monospace;background-color: #f0f8ff;border: 1px dotted black;border-radius: 0.25em;box-sizing: border-box;margin-bottom: 0.5em;}#sk-container-id-3 div.sk-estimator:hover {background-color: #d4ebff;}#sk-container-id-3 div.sk-parallel-item::after {content: \"\";width: 100%;border-bottom: 1px solid gray;flex-grow: 1;}#sk-container-id-3 div.sk-label:hover label.sk-toggleable__label {background-color: #d4ebff;}#sk-container-id-3 div.sk-serial::before {content: \"\";position: absolute;border-left: 1px solid gray;box-sizing: border-box;top: 0;bottom: 0;left: 50%;z-index: 0;}#sk-container-id-3 div.sk-serial {display: flex;flex-direction: column;align-items: center;background-color: white;padding-right: 0.2em;padding-left: 0.2em;position: relative;}#sk-container-id-3 div.sk-item {position: relative;z-index: 1;}#sk-container-id-3 div.sk-parallel {display: flex;align-items: stretch;justify-content: center;background-color: white;position: relative;}#sk-container-id-3 div.sk-item::before, #sk-container-id-3 div.sk-parallel-item::before {content: \"\";position: absolute;border-left: 1px solid gray;box-sizing: border-box;top: 0;bottom: 0;left: 50%;z-index: -1;}#sk-container-id-3 div.sk-parallel-item {display: flex;flex-direction: column;z-index: 1;position: relative;background-color: white;}#sk-container-id-3 div.sk-parallel-item:first-child::after {align-self: flex-end;width: 50%;}#sk-container-id-3 div.sk-parallel-item:last-child::after {align-self: flex-start;width: 50%;}#sk-container-id-3 div.sk-parallel-item:only-child::after {width: 0;}#sk-container-id-3 div.sk-dashed-wrapped {border: 1px dashed gray;margin: 0 0.4em 0.5em 0.4em;box-sizing: border-box;padding-bottom: 0.4em;background-color: white;}#sk-container-id-3 div.sk-label label {font-family: monospace;font-weight: bold;display: inline-block;line-height: 1.2em;}#sk-container-id-3 div.sk-label-container {text-align: center;}#sk-container-id-3 div.sk-container {/* jupyter's `normalize.less` sets `[hidden] { display: none; }` but bootstrap.min.css set `[hidden] { display: none !important; }` so we also need the `!important` here to be able to override the default hidden behavior on the sphinx rendered scikit-learn.org. See: https://github.com/scikit-learn/scikit-learn/issues/21755 */display: inline-block !important;position: relative;}#sk-container-id-3 div.sk-text-repr-fallback {display: none;}</style><div id=\"sk-container-id-3\" class=\"sk-top-container\"><div class=\"sk-text-repr-fallback\"><pre>LinearRegression()</pre><b>In a Jupyter environment, please rerun this cell to show the HTML representation or trust the notebook. <br />On GitHub, the HTML representation is unable to render, please try loading this page with nbviewer.org.</b></div><div class=\"sk-container\" hidden><div class=\"sk-item\"><div class=\"sk-estimator sk-toggleable\"><input class=\"sk-toggleable__control sk-hidden--visually\" id=\"sk-estimator-id-3\" type=\"checkbox\" checked><label for=\"sk-estimator-id-3\" class=\"sk-toggleable__label sk-toggleable__label-arrow\">LinearRegression</label><div class=\"sk-toggleable__content\"><pre>LinearRegression()</pre></div></div></div></div></div>"
      ],
      "text/plain": [
       "LinearRegression()"
      ]
     },
     "execution_count": 45,
     "metadata": {},
     "output_type": "execute_result"
    }
   ],
   "source": [
    "# Extract the top five features from the original dataset\n",
    "X_top_five = data_df_pivot[top_five_features].values\n",
    "\n",
    "# Impute missing values with the mean (you can use other strategies if needed)\n",
    "imputer = SimpleImputer(strategy='mean')\n",
    "X_top_five = imputer.fit_transform(X_top_five)\n",
    "\n",
    "# Train a new Linear Regression model using the top five features\n",
    "model_top_five = LinearRegression()\n",
    "model_top_five.fit(X_top_five, y)"
   ]
  },
  {
   "cell_type": "markdown",
   "metadata": {},
   "source": [
    "### Save the predictor in a file"
   ]
  },
  {
   "cell_type": "code",
   "execution_count": 47,
   "metadata": {},
   "outputs": [],
   "source": [
    "import joblib"
   ]
  },
  {
   "cell_type": "code",
   "execution_count": 49,
   "metadata": {},
   "outputs": [
    {
     "data": {
      "text/plain": [
       "['linear_regression_model3.joblib']"
      ]
     },
     "execution_count": 49,
     "metadata": {},
     "output_type": "execute_result"
    }
   ],
   "source": [
    "# Save the trained model to a file\n",
    "model_file = 'linear_regression_model3.joblib'\n",
    "joblib.dump(model_top_five, model_file)"
   ]
  }
 ],
 "metadata": {
  "kernelspec": {
   "display_name": "venv",
   "language": "python",
   "name": "python3"
  },
  "language_info": {
   "codemirror_mode": {
    "name": "ipython",
    "version": 3
   },
   "file_extension": ".py",
   "mimetype": "text/x-python",
   "name": "python",
   "nbconvert_exporter": "python",
   "pygments_lexer": "ipython3",
   "version": "3.11.3"
  },
  "orig_nbformat": 4
 },
 "nbformat": 4,
 "nbformat_minor": 2
}
