{
 "cells": [
  {
   "cell_type": "markdown",
   "metadata": {},
   "source": [
    "## Data fields from the year 2015 that are present in most of the countries"
   ]
  },
  {
   "cell_type": "code",
   "execution_count": 2,
   "metadata": {},
   "outputs": [],
   "source": [
    "import pandas as pd"
   ]
  },
  {
   "cell_type": "code",
   "execution_count": 3,
   "metadata": {},
   "outputs": [],
   "source": [
    "# Import data set\n",
    "file = '../data/WEOOct2020all.xlsx'\n",
    "df = pd.read_excel(file)"
   ]
  },
  {
   "cell_type": "code",
   "execution_count": 7,
   "metadata": {},
   "outputs": [],
   "source": [
    "# Filter the DataFrame to include only the columns for the year 2015 and the 'Country' column\n",
    "columns_2015 = df[['Country', 'WEO Subject Code', 2015]]"
   ]
  },
  {
   "cell_type": "code",
   "execution_count": 13,
   "metadata": {},
   "outputs": [],
   "source": [
    "# Group the DataFrame by the 'WEO Subject Code' and count the number of unique countries\n",
    "data_field_counts = columns_2015.groupby('WEO Subject Code')['Country'].nunique().sort_values(ascending=False)\n"
   ]
  },
  {
   "cell_type": "code",
   "execution_count": 14,
   "metadata": {},
   "outputs": [],
   "source": [
    "# Find the data fields with the highest count of unique countries\n",
    "most_common_data_fields = data_field_counts[data_field_counts == data_field_counts.max()]\n"
   ]
  },
  {
   "cell_type": "code",
   "execution_count": 15,
   "metadata": {},
   "outputs": [
    {
     "name": "stdout",
     "output_type": "stream",
     "text": [
      "Data fields from the year 2015 present in most countries:\n",
      "WEO Subject Code\n",
      "BCA             195\n",
      "NGDPDPC         195\n",
      "NGDPRPC         195\n",
      "NGDPRPPPPC      195\n",
      "NGDP_D          195\n",
      "NGDP_FY         195\n",
      "NGDP_R          195\n",
      "NGDP_RPCH       195\n",
      "NGSD_NGDP       195\n",
      "NID_NGDP        195\n",
      "PCPI            195\n",
      "PCPIE           195\n",
      "PCPIEPCH        195\n",
      "PCPIPCH         195\n",
      "PPPEX           195\n",
      "PPPGDP          195\n",
      "PPPPC           195\n",
      "PPPSH           195\n",
      "TMG_RPCH        195\n",
      "TM_RPCH         195\n",
      "TXG_RPCH        195\n",
      "NGDPPC          195\n",
      "NGDPD           195\n",
      "BCA_NGDPD       195\n",
      "NGDP            195\n",
      "FLIBOR6         195\n",
      "GGR             195\n",
      "GGR_NGDP        195\n",
      "GGSB            195\n",
      "GGSB_NPGDP      195\n",
      "GGX             195\n",
      "GGXCNL          195\n",
      "GGXCNL_NGDP     195\n",
      "GGXONLB         195\n",
      "GGXONLB_NGDP    195\n",
      "GGXWDG          195\n",
      "GGXWDG_NGDP     195\n",
      "GGXWDN          195\n",
      "GGXWDN_NGDP     195\n",
      "GGX_NGDP        195\n",
      "LE              195\n",
      "LP              195\n",
      "LUR             195\n",
      "NGAP_NPGDP      195\n",
      "TX_RPCH         195\n",
      "Name: Country, dtype: int64\n"
     ]
    }
   ],
   "source": [
    "# Display the result\n",
    "print(\"Data fields from the year 2015 present in most countries:\")\n",
    "print(most_common_data_fields)"
   ]
  }
 ],
 "metadata": {
  "kernelspec": {
   "display_name": "venv",
   "language": "python",
   "name": "python3"
  },
  "language_info": {
   "codemirror_mode": {
    "name": "ipython",
    "version": 3
   },
   "file_extension": ".py",
   "mimetype": "text/x-python",
   "name": "python",
   "nbconvert_exporter": "python",
   "pygments_lexer": "ipython3",
   "version": "3.11.3"
  },
  "orig_nbformat": 4
 },
 "nbformat": 4,
 "nbformat_minor": 2
}
