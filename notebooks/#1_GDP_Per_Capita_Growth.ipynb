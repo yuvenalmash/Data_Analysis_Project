{
 "cells": [
  {
   "cell_type": "markdown",
   "metadata": {},
   "source": [
    "# Top 10 countries with the highest GDP per capita growth over the last 10 years"
   ]
  },
  {
   "cell_type": "code",
   "execution_count": 1,
   "metadata": {},
   "outputs": [],
   "source": [
    "import pandas as pd"
   ]
  },
  {
   "cell_type": "code",
   "execution_count": 2,
   "metadata": {},
   "outputs": [],
   "source": [
    "# Import data set\n",
    "file = '../data/WEOOct2020all.xlsx'\n",
    "df = pd.read_excel(file)"
   ]
  },
  {
   "cell_type": "code",
   "execution_count": 9,
   "metadata": {},
   "outputs": [],
   "source": [
    "# Filter the DataFrame to include only rows where 'WEO Subject Code' is 'NGDPPC'\n",
    "df_ngdppc = df[df['WEO Subject Code'] == 'NGDPPC'].copy()"
   ]
  },
  {
   "cell_type": "code",
   "execution_count": 18,
   "metadata": {},
   "outputs": [],
   "source": [
    "# Calculate GDP per capita growth rate over the last 10 years\n",
    "last_10_years = df_ngdppc.columns[-12:-3]\n",
    "df_ngdppc['GDP per capita growth'] = df_ngdppc.loc[:, last_10_years].pct_change(axis=1).iloc[:, -1]"
   ]
  },
  {
   "cell_type": "code",
   "execution_count": 19,
   "metadata": {},
   "outputs": [],
   "source": [
    "# Sort the countries based on the GDP per capita growth rate\n",
    "# The countries with the highest growth rate are at the top\n",
    "\n",
    "df_sorted = df_ngdppc.sort_values(by='GDP per capita growth', ascending=False)"
   ]
  },
  {
   "cell_type": "code",
   "execution_count": 20,
   "metadata": {},
   "outputs": [
    {
     "name": "stdout",
     "output_type": "stream",
     "text": [
      "                       Country  GDP per capita growth\n",
      "3518  Islamic Republic of Iran               0.260814\n",
      "233                  Argentina               0.233903\n",
      "7388                     Sudan               0.204209\n",
      "7118               South Sudan               0.174701\n",
      "2528                  Ethiopia               0.160120\n",
      "5273                Mozambique               0.154973\n",
      "3203                     Haiti               0.143851\n",
      "8018                    Turkey               0.130128\n",
      "8648                     Yemen               0.129280\n",
      "5318                   Myanmar               0.126104\n"
     ]
    }
   ],
   "source": [
    "# Extract the top 10 countries with the highest GDP per capita growth\n",
    "\n",
    "top_ten_countries = df_sorted.head(10)\n",
    "print(top_ten_countries[['Country', 'GDP per capita growth']])\n",
    "\n",
    "# Plot the top 10 countries with the highest GDP per capita growth\n"
   ]
  }
 ],
 "metadata": {
  "kernelspec": {
   "display_name": "venv",
   "language": "python",
   "name": "python3"
  },
  "language_info": {
   "codemirror_mode": {
    "name": "ipython",
    "version": 3
   },
   "file_extension": ".py",
   "mimetype": "text/x-python",
   "name": "python",
   "nbconvert_exporter": "python",
   "pygments_lexer": "ipython3",
   "version": "3.11.3"
  },
  "orig_nbformat": 4
 },
 "nbformat": 4,
 "nbformat_minor": 2
}
