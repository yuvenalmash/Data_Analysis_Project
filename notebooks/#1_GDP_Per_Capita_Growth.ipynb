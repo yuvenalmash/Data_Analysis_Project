{
 "cells": [
  {
   "cell_type": "markdown",
   "metadata": {},
   "source": [
    "# Top 10 countries with the highest GDP per capita growth over the last 10 years"
   ]
  },
  {
   "cell_type": "code",
   "execution_count": 77,
   "metadata": {},
   "outputs": [],
   "source": [
    "import pandas as pd"
   ]
  },
  {
   "cell_type": "code",
   "execution_count": 78,
   "metadata": {},
   "outputs": [],
   "source": [
    "# Import data set\n",
    "file = '../data/WEOOct2020all.xlsx'\n",
    "df = pd.read_excel(file)"
   ]
  },
  {
   "cell_type": "code",
   "execution_count": 79,
   "metadata": {},
   "outputs": [],
   "source": [
    "# Filter the DataFrame to include only rows where 'WEO Subject Code' is 'NGDPPC'\n",
    "df_ngdppc = df[df['WEO Subject Code'] == 'NGDPPC'].copy()"
   ]
  },
  {
   "cell_type": "code",
   "execution_count": 80,
   "metadata": {},
   "outputs": [],
   "source": [
    "# Calculate GDP per capita growth rate over the last 10 years\n",
    "cols = df_ngdppc.columns\n",
    "df_ngdppc['GDP Per Capita Growth'] = (df_ngdppc[cols[-4]] - df_ngdppc[cols[-14]]) / df_ngdppc[cols[-14]] * 100"
   ]
  },
  {
   "cell_type": "code",
   "execution_count": 81,
   "metadata": {},
   "outputs": [],
   "source": [
    "# Sort the countries based on the GDP per capita growth rate\n",
    "# The countries with the highest growth rate are at the top\n",
    "\n",
    "df_sorted = df_ngdppc.sort_values(by='GDP Per Capita Growth', ascending=False)"
   ]
  },
  {
   "cell_type": "code",
   "execution_count": 82,
   "metadata": {},
   "outputs": [
    {
     "name": "stdout",
     "output_type": "stream",
     "text": [
      "                       Country GDP Per Capita Growth\n",
      "7388                     Sudan           5150.401045\n",
      "8738                  Zimbabwe           4247.986209\n",
      "7118               South Sudan           2494.095162\n",
      "233                  Argentina           2033.283892\n",
      "3518  Islamic Republic of Iran            491.273704\n",
      "2528                  Ethiopia            455.221108\n",
      "8423                Uzbekistan            418.747367\n",
      "7433                  Suriname            346.523789\n",
      "3203                     Haiti            275.178708\n",
      "8198                   Ukraine            274.174907\n"
     ]
    }
   ],
   "source": [
    "# Extract the top 10 countries with the highest GDP per capita growth\n",
    "\n",
    "top_ten_countries = df_sorted.head(10)\n",
    "print(top_ten_countries[['Country', 'GDP Per Capita Growth']])\n",
    "\n",
    "# Plot the top 10 countries with the highest GDP per capita growth\n"
   ]
  }
 ],
 "metadata": {
  "kernelspec": {
   "display_name": "venv",
   "language": "python",
   "name": "python3"
  },
  "language_info": {
   "codemirror_mode": {
    "name": "ipython",
    "version": 3
   },
   "file_extension": ".py",
   "mimetype": "text/x-python",
   "name": "python",
   "nbconvert_exporter": "python",
   "pygments_lexer": "ipython3",
   "version": "3.11.3"
  },
  "orig_nbformat": 4
 },
 "nbformat": 4,
 "nbformat_minor": 2
}
