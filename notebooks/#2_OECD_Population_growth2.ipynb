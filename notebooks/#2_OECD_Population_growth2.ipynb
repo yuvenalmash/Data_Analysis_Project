{
 "cells": [
  {
   "cell_type": "markdown",
   "metadata": {},
   "source": [
    "## OECD countries' \"Population\" growth over the last decade"
   ]
  },
  {
   "cell_type": "code",
   "execution_count": 1,
   "metadata": {},
   "outputs": [],
   "source": [
    "import pandas as pd\n",
    "import matplotlib.pyplot as plt"
   ]
  },
  {
   "cell_type": "code",
   "execution_count": 2,
   "metadata": {},
   "outputs": [],
   "source": [
    "# import data set\n",
    "file = '../data/WEOOct2020all.xlsx'\n",
    "df = pd.read_excel(file)"
   ]
  },
  {
   "cell_type": "code",
   "execution_count": 3,
   "metadata": {},
   "outputs": [],
   "source": [
    "oecd_countries = [\n",
    "    'Australia',\n",
    "    'Austria',\n",
    "    'Belgium',\n",
    "    'Canada',\n",
    "    'Chile',\n",
    "    'Czech Republic',\n",
    "    'Denmark',\n",
    "    'Estonia',\n",
    "    'Finland',\n",
    "    'France',\n",
    "    'Germany',\n",
    "    'Greece',\n",
    "    'Hungary',\n",
    "    'Iceland',\n",
    "    'Ireland',\n",
    "    'Israel',\n",
    "    'Italy',\n",
    "    'Japan',\n",
    "    'Korea',\n",
    "    'Latvia',\n",
    "    'Lithuania',\n",
    "    'Luxembourg',\n",
    "    'Mexico',\n",
    "    'Netherlands',\n",
    "    'New Zealand',\n",
    "    'Norway',\n",
    "    'Poland',\n",
    "    'Portugal',\n",
    "    'Slovakia',\n",
    "    'Slovenia',\n",
    "    'Spain',\n",
    "    'Sweden',\n",
    "    'Switzerland',\n",
    "    'Turkey',\n",
    "    'United Kingdom',\n",
    "    'United States'\n",
    "]\n"
   ]
  },
  {
   "cell_type": "code",
   "execution_count": 4,
   "metadata": {},
   "outputs": [],
   "source": [
    "# Filter countries only in the OECD and WEO Subject Code is LP\n",
    "oecd_df = df[(df['Country'].isin(oecd_countries)) & (df['WEO Subject Code'] == 'LP')]"
   ]
  },
  {
   "cell_type": "code",
   "execution_count": 17,
   "metadata": {},
   "outputs": [
    {
     "name": "stdout",
     "output_type": "stream",
     "text": [
      "[2013, 2014, 2015, 2016, 2017, 2018, 2019, 2020, 2021, 2022, 2023]\n"
     ]
    }
   ],
   "source": [
    "years = [int(x) for x in range(2013, 2023 + 1)]\n",
    "\n",
    "# Filter to only include columns from 2013 to 2023\n",
    "oecd_df = oecd_df.loc[:, years[0]:years[-1]]"
   ]
  },
  {
   "cell_type": "code",
   "execution_count": 10,
   "metadata": {},
   "outputs": [
    {
     "name": "stdout",
     "output_type": "stream",
     "text": [
      "         2013     2014     2015     2016     2017     2018     2019     2020  \\\n",
      "387    23.298    23.64   23.985    24.39   24.773   25.172   25.522   25.724   \n",
      "432     8.477    8.544     8.63     8.74    8.815    8.885    8.859    8.901   \n",
      "747    11.138   11.181   11.237   11.311   11.352   11.399   11.456    11.49   \n",
      "1422   35.034   35.392   35.678   36.052   36.492   36.994   37.527   38.029   \n",
      "1557   17.612   17.788   17.971   18.167   18.419   18.751   19.107   19.458   \n",
      "2007   10.516   10.512   10.538   10.554   10.579    10.61    10.65   10.694   \n",
      "2052    5.603    5.627     5.66    5.707    5.749    5.781    5.806    5.812   \n",
      "2457    1.318    1.315    1.315    1.316    1.317    1.322    1.325    1.325   \n",
      "2637    5.427    5.451    5.472    5.487    5.503    5.513    5.518    5.527   \n",
      "2682   63.698   64.028   64.301   64.469   64.639   64.738   64.822   64.993   \n",
      "2862   80.646   80.983   81.687   82.349   82.657   82.906   83.093   83.151   \n",
      "2952   11.004   10.927   10.858   10.784   10.768   10.741   10.725   10.699   \n",
      "3357    9.909    9.877    9.856     9.83    9.798    9.778    9.773    9.753   \n",
      "3402    0.322    0.326    0.329    0.333    0.338    0.348    0.357    0.364   \n",
      "3627    4.631    4.667    4.714    4.771    4.825    4.886     4.95    5.009   \n",
      "3672    8.056    8.212    8.377    8.543     8.71    8.879    9.051    9.226   \n",
      "3717    60.51   60.783   60.796   60.666   60.589   60.484    60.36   60.287   \n",
      "3807  127.333   127.12  126.978   126.96  126.746  126.495   126.19  125.758   \n",
      "4032   50.429   50.747   51.015   51.218   51.362   51.607   51.709   51.781   \n",
      "4257    2.024    2.001    1.986    1.969     1.95    1.934     1.92    1.916   \n",
      "4482    2.958    2.932    2.905    2.868    2.828    2.802    2.783    2.769   \n",
      "4527    0.537     0.55    0.563    0.576    0.591    0.602    0.614    0.626   \n",
      "5022  118.827  120.355  121.858  123.333  124.777  126.191  127.576  128.933   \n",
      "5517    16.78   16.829   16.901   16.979   17.082   17.181   17.231   17.281   \n",
      "5562    4.445    4.508    4.589     4.68    4.767    4.844    4.925    5.004   \n",
      "5787    5.096    5.156    5.205    5.252     5.29    5.324    5.357    5.389   \n",
      "6192   38.063   38.018   38.006   37.967   37.973   37.977   37.973   37.958   \n",
      "6237   10.457   10.401   10.358   10.326     10.3   10.284   10.276   10.261   \n",
      "6957    2.059    2.061    2.063    2.064    2.066    2.067    2.068    2.069   \n",
      "7182   46.593   46.455    46.41   46.399   46.408   46.449   46.486   46.492   \n",
      "7497    9.645    9.747    9.851    9.995    10.12    10.23   10.328    10.51   \n",
      "7542    8.039     8.14    8.238    8.327     8.42    8.484    8.545    8.647   \n",
      "8037   76.668   77.696   78.741   79.815   80.811   82.004   83.155   84.174   \n",
      "8307   64.106   64.597    65.11   65.648    66.04   66.436   66.797   67.255   \n",
      "8352  316.266  318.535  320.823  323.095  325.143  326.882  328.461  330.005   \n",
      "\n",
      "         2021     2022     2023  \n",
      "387    25.875   26.119   26.469  \n",
      "432     8.946     8.99    9.035  \n",
      "747    11.524   11.573   11.619  \n",
      "1422   38.435   38.849   39.261  \n",
      "1557   19.718   19.923   20.113  \n",
      "2007    10.73   10.758   10.778  \n",
      "2052    5.823    5.836     5.85  \n",
      "2457    1.326    1.326    1.325  \n",
      "2637    5.533    5.536    5.539  \n",
      "2682    65.17   65.351   65.535  \n",
      "2862     83.1   83.039   82.967  \n",
      "2952   10.673   10.643   10.613  \n",
      "3357    9.734    9.714    9.695  \n",
      "3402     0.37    0.375    0.381  \n",
      "3627    5.057    5.105    5.153  \n",
      "3672    9.404    9.586    9.771  \n",
      "3717   60.227   60.176   60.136  \n",
      "3807  125.284   124.77  124.222  \n",
      "4032   51.822   51.846   51.868  \n",
      "4257    1.912    1.908    1.905  \n",
      "4482    2.754    2.739    2.724  \n",
      "4527    0.638    0.651    0.664  \n",
      "5022  130.262  131.563  132.834  \n",
      "5517   17.331   17.381   17.431  \n",
      "5562    5.064    5.138     5.22  \n",
      "5787    5.421    5.454    5.487  \n",
      "6192   37.928    37.89   37.844  \n",
      "6237   10.242   10.222   10.198  \n",
      "6957     2.07    2.071    2.072  \n",
      "7182   46.535   46.735   46.927  \n",
      "7497   10.613   10.715   10.814  \n",
      "7542     8.75    8.855    8.962  \n",
      "8037   85.184   86.192    87.19  \n",
      "8307   67.612   67.949   68.266  \n",
      "8352  331.421  332.844  334.273  \n"
     ]
    }
   ],
   "source": [
    "print(oecd_df)"
   ]
  },
  {
   "cell_type": "code",
   "execution_count": 11,
   "metadata": {},
   "outputs": [],
   "source": [
    "average_population_by_year = oecd_df.mean()"
   ]
  },
  {
   "cell_type": "code",
   "execution_count": 13,
   "metadata": {},
   "outputs": [],
   "source": [
    "sum_population_by_year = oecd_df.sum()"
   ]
  },
  {
   "cell_type": "code",
   "execution_count": 12,
   "metadata": {},
   "outputs": [
    {
     "name": "stdout",
     "output_type": "stream",
     "text": [
      "2013    35.929257\n",
      "2014    36.145743\n",
      "2015    36.371543\n",
      "2016    36.598286\n",
      "2017    36.799914\n",
      "2018    36.999429\n",
      "2019    37.179857\n",
      "2020    37.350571\n",
      "2021    37.499657\n",
      "2022    37.652057\n",
      "2023    37.804029\n",
      "dtype: object\n"
     ]
    }
   ],
   "source": [
    "print(average_population_by_year)"
   ]
  },
  {
   "cell_type": "code",
   "execution_count": 14,
   "metadata": {},
   "outputs": [
    {
     "name": "stdout",
     "output_type": "stream",
     "text": [
      "2013    1257.524\n",
      "2014    1265.101\n",
      "2015    1273.004\n",
      "2016     1280.94\n",
      "2017    1287.997\n",
      "2018     1294.98\n",
      "2019    1301.295\n",
      "2020     1307.27\n",
      "2021    1312.488\n",
      "2022    1317.822\n",
      "2023    1323.141\n",
      "dtype: object\n"
     ]
    }
   ],
   "source": [
    "print(sum_population_by_year)"
   ]
  },
  {
   "cell_type": "code",
   "execution_count": 16,
   "metadata": {},
   "outputs": [
    {
     "name": "stdout",
     "output_type": "stream",
     "text": [
      "1257.524\n"
     ]
    }
   ],
   "source": [
    "print(sum_population_by_year[2013])"
   ]
  },
  {
   "cell_type": "code",
   "execution_count": 23,
   "metadata": {},
   "outputs": [],
   "source": [
    "years = sum_population_by_year.index.tolist()\n",
    "# population = sum_population_by_year.values.tolist()\n",
    "population = average_population_by_year"
   ]
  },
  {
   "cell_type": "code",
   "execution_count": 24,
   "metadata": {},
   "outputs": [
    {
     "data": {
      "image/png": "[encoded data removed]",
      "text/plain": [
       "<Figure size 640x480 with 1 Axes>"
      ]
     },
     "metadata": {},
     "output_type": "display_data"
    }
   ],
   "source": [
    "#Plot the population growth\n",
    "plt.plot(years, population, marker='o', linestyle='-')\n",
    "plt.xlabel('Year')\n",
    "plt.ylabel('Population (millions)')\n",
    "plt.title('Population Growth from 2013 to 2023')\n",
    "plt.grid(True)\n",
    "plt.xticks(years)\n",
    "plt.tight_layout()\n",
    "plt.show()"
   ]
  }
 ],
 "metadata": {
  "kernelspec": {
   "display_name": "venv",
   "language": "python",
   "name": "python3"
  },
  "language_info": {
   "codemirror_mode": {
    "name": "ipython",
    "version": 3
   },
   "file_extension": ".py",
   "mimetype": "text/x-python",
   "name": "python",
   "nbconvert_exporter": "python",
   "pygments_lexer": "ipython3",
   "version": "3.11.3"
  },
  "orig_nbformat": 4
 },
 "nbformat": 4,
 "nbformat_minor": 2
}
